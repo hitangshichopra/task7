{
 "cells": [
  {
   "cell_type": "code",
   "execution_count": 1,
   "id": "98815e3c-1478-49ea-ba93-65fe72dc5b22",
   "metadata": {},
   "outputs": [],
   "source": [
    "import sqlite3\n",
    "import pandas as pd\n",
    "import matplotlib.pyplot as plt\n"
   ]
  },
  {
   "cell_type": "code",
   "execution_count": 2,
   "id": "b7aa5d5e-be5a-4baa-84a2-126294425360",
   "metadata": {},
   "outputs": [],
   "source": [
    "# Connect to (or create) a database\n",
    "conn = sqlite3.connect(\"sales_data.db\")\n",
    "\n",
    "# Create a cursor to execute SQL\n",
    "cursor = conn.cursor()\n"
   ]
  },
  {
   "cell_type": "code",
   "execution_count": 3,
   "id": "8415d102-4b05-4a0a-b0c5-0796bd284108",
   "metadata": {},
   "outputs": [
    {
     "data": {
      "text/plain": [
       "<sqlite3.Cursor at 0x1487691d0c0>"
      ]
     },
     "execution_count": 3,
     "metadata": {},
     "output_type": "execute_result"
    }
   ],
   "source": [
    "# Create sales table\n",
    "cursor.execute(\"\"\"\n",
    "    CREATE TABLE IF NOT EXISTS sales (\n",
    "        id INTEGER PRIMARY KEY AUTOINCREMENT,\n",
    "        product TEXT,\n",
    "        quantity INTEGER,\n",
    "        price REAL\n",
    "    )\n",
    "\"\"\")\n"
   ]
  },
  {
   "cell_type": "code",
   "execution_count": 5,
   "id": "5a471daa-ca8b-48cc-939a-9d39dd483c55",
   "metadata": {},
   "outputs": [],
   "source": [
    "# Sample sales data\n",
    "sample_data = [\n",
    "    (\"Apple\", 10, 2.5),\n",
    "    (\"Banana\", 15, 1.2),\n",
    "    (\"Orange\", 7, 3.0),\n",
    "    (\"Apple\", 5, 2.5),\n",
    "    (\"Banana\", 10, 1.2),\n",
    "    (\"Mango\", 12, 2.8)\n",
    "]\n",
    "\n",
    "# Insert data\n",
    "cursor.executemany(\"INSERT INTO sales (product, quantity, price) VALUES (?, ?, ?)\", sample_data)\n",
    "\n",
    "# Save (commit) changes\n",
    "conn.commit()\n"
   ]
  },
  {
   "cell_type": "code",
   "execution_count": 6,
   "id": "75dffb40-a3b4-413c-bf36-cae1bd9f6b68",
   "metadata": {},
   "outputs": [],
   "source": [
    "# Sample sales data\n",
    "sample_data = [\n",
    "    (\"Apple\", 10, 2.5),\n",
    "    (\"Banana\", 15, 1.2),\n",
    "    (\"Orange\", 7, 3.0),\n",
    "    (\"Apple\", 5, 2.5),\n",
    "    (\"Banana\", 10, 1.2),\n",
    "    (\"Mango\", 12, 2.8)\n",
    "]\n",
    "\n",
    "# Insert data\n",
    "cursor.executemany(\"INSERT INTO sales (product, quantity, price) VALUES (?, ?, ?)\", sample_data)\n",
    "\n",
    "# Save (commit) changes\n",
    "conn.commit()\n"
   ]
  },
  {
   "cell_type": "code",
   "execution_count": 7,
   "id": "d706ff66-3334-4900-9150-6de4d6752cfc",
   "metadata": {},
   "outputs": [],
   "source": [
    "# SQL to calculate total quantity and revenue per product\n",
    "query = \"\"\"\n",
    "    SELECT \n",
    "        product, \n",
    "        SUM(quantity) AS total_qty, \n",
    "        SUM(quantity * price) AS revenue \n",
    "    FROM sales \n",
    "    GROUP BY product\n",
    "\"\"\"\n",
    "\n",
    "# Load result into pandas DataFrame\n",
    "df = pd.read_sql_query(query, conn)\n"
   ]
  },
  {
   "cell_type": "code",
   "execution_count": 8,
   "id": "83c416d5-bd56-423d-afec-7ee6e854f7cf",
   "metadata": {},
   "outputs": [
    {
     "name": "stdout",
     "output_type": "stream",
     "text": [
      "Sales Summary:\n",
      "  product  total_qty  revenue\n",
      "0   Apple         45    112.5\n",
      "1  Banana         75     90.0\n",
      "2   Mango         36    100.8\n",
      "3  Orange         21     63.0\n"
     ]
    }
   ],
   "source": [
    "print(\"Sales Summary:\")\n",
    "print(df)"
   ]
  },
  {
   "cell_type": "code",
   "execution_count": 9,
   "id": "bfe51c67-c54c-467d-9707-60268ad01de3",
   "metadata": {},
   "outputs": [
    {
     "data": {
      "image/png": "[encoded data removed]",
      "text/plain": [
       "<Figure size 640x480 with 1 Axes>"
      ]
     },
     "metadata": {},
     "output_type": "display_data"
    }
   ],
   "source": [
    "# Plot bar chart\n",
    "df.plot(kind='bar', x='product', y='revenue', legend=False, color='lightgreen')\n",
    "plt.title(\"Revenue by Product\")\n",
    "plt.xlabel(\"Product\")\n",
    "plt.ylabel(\"Revenue\")\n",
    "plt.tight_layout()\n",
    "\n",
    "# Save and Show Chart\n",
    "plt.savefig(\"sales_chart.png\")\n",
    "plt.show()\n"
   ]
  },
  {
   "cell_type": "code",
   "execution_count": 10,
   "id": "ddd662cd-adfd-4247-994d-079da6e1a821",
   "metadata": {},
   "outputs": [],
   "source": [
    "conn.close()\n"
   ]
  },
  {
   "cell_type": "code",
   "execution_count": null,
   "id": "3f825aae-adae-48bb-a310-cb1eb0653400",
   "metadata": {},
   "outputs": [],
   "source": []
  }
 ],
 "metadata": {
  "kernelspec": {
   "display_name": "Python 3 (ipykernel)",
   "language": "python",
   "name": "python3"
  },
  "language_info": {
   "codemirror_mode": {
    "name": "ipython",
    "version": 3
   },
   "file_extension": ".py",
   "mimetype": "text/x-python",
   "name": "python",
   "nbconvert_exporter": "python",
   "pygments_lexer": "ipython3",
   "version": "3.12.6"
  }
 },
 "nbformat": 4,
 "nbformat_minor": 5
}
